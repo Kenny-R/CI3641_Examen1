{
 "cells": [
  {
   "cell_type": "markdown",
   "metadata": {},
   "source": [
    "# Manejador de memoria usando buddy system"
   ]
  },
  {
   "cell_type": "code",
   "execution_count": 80,
   "metadata": {},
   "outputs": [],
   "source": [
    "# clase manejador \n",
    "class buddy_system:\n",
    "    def __init__(self, bloques):\n",
    "        self.memoria = [\"libre\"]*bloques\n",
    "        self.identificadores = []\n",
    "        self.listas_bloques_libres = {}\n",
    "\n",
    "        self.determinar_espacios()\n",
    "\n",
    "    def determinar_espacios(self):\n",
    "        for i in range(0,len(self.memoria)):\n",
    "            if self.memoria[i] == \"libre\":\n",
    "                if self.listas_bloques_libres.keys().__contains__(1) == False: self.listas_bloques_libres[1]=[]\n",
    "                # Añadimos este bloque a los espacios libres de tamaño 1\n",
    "                self.listas_bloques_libres[1].append((i,i))\n",
    "\n",
    "                # Vamos buscando la cantidad de bloques contiguos a i\n",
    "                paso = 2\n",
    "\n",
    "                while i+paso-1 < len(self.memoria) and self.memoria[i+paso-1] == \"libre\":\n",
    "                    if self.listas_bloques_libres.keys().__contains__(paso) == False: self.listas_bloques_libres[paso]=[]\n",
    "                    \n",
    "                    # Añadimos este bloque a los espacios libres de tamaño i+paso\n",
    "                    self.listas_bloques_libres[paso].append((i,i+paso-1))\n",
    "\n",
    "                    paso *= 2\n",
    "    \n",
    "    def ocupar_espacios(self, nombre,espacio):\n",
    "        # ocupamos el espacio\n",
    "        for i in range(espacio[0],espacio[1]+1):\n",
    "            self.memoria[i] = nombre\n",
    "\n",
    "        # calculamos el tamaño \n",
    "        i = 1\n",
    "\n",
    "        # eliminamos los bloques vacios en las listas que tengan menor tamaño que el espacio ocupado\n",
    "        while i < len(self.memoria):\n",
    "            nuevos_bloques = []\n",
    "            for intervalo in self.listas_bloques_libres[i]:                \n",
    "                \n",
    "                # si el intervalo esta contenido en el espacio o si el intervalo se solapa con el espacio lo quitamos\n",
    "                # de la lista\n",
    "                if (intervalo[0] in range(espacio[0],espacio[1]+1) and intervalo[1] in range(espacio[0],espacio[1]+1) or \n",
    "                   intervalo[0] < espacio[0]  and intervalo[1] in range(espacio[0],espacio[1]+1) or\n",
    "                   intervalo[0] in range(espacio[0],espacio[1]+1) and intervalo[1] > espacio[1]):\n",
    "                        continue\n",
    "                \n",
    "                # si el intervalo contiene completamente al espacio a ocupar quitamos el intervalo de la lista\n",
    "                if intervalo[0]<= espacio[0] and espacio[1]<=intervalo[1]:\n",
    "                        continue\n",
    "                \n",
    "                nuevos_bloques.append(intervalo)\n",
    "\n",
    "                    \n",
    "            self.listas_bloques_libres[i] = nuevos_bloques        \n",
    "            i *= 2\n",
    "    \n",
    "    def determinar_bloques(self,cantidad):\n",
    "        cantidad_en_binario = bin(cantidad)[2:]\n",
    "        \n",
    "        bloques_necearios = []\n",
    "        bloques_necearios[:0] = cantidad_en_binario\n",
    "        bloques_necearios.reverse()\n",
    "        bloques_necearios\n",
    "\n",
    "        return bloques_necearios\n",
    "\n",
    "    \n",
    "    def asignar_espacio(self, nombre, cantidad):\n",
    "        if cantidad > len(self.memoria):\n",
    "            print(\"Espacio solicitado mayor que el espacio disponible\")\n",
    "            return\n",
    "        \n",
    "        bloques_necearios = self.determinar_bloques(cantidad)\n",
    "        bloques_disponibles = []\n",
    "\n",
    "        for i in range(0,len(bloques_necearios)):\n",
    "            if bloques_necearios[i] == \"1\":\n",
    "                bloques_disponibles.append(self.listas_bloques_libres[2**i])\n",
    "\n",
    "        \n",
    "        for b in bloques_disponibles[0]:\n",
    "            secuencia = []\n",
    "            conseguido = False\n",
    "            coor_inicial = b[0]\n",
    "            coor_final = b[1]\n",
    "            seguir = True\n",
    "            i = 0\n",
    "            while seguir == True :\n",
    "                for b2 in bloques_disponibles[i+1]:\n",
    "                    if coor_inicial == b2[1]:\n",
    "                        coor_inicial = b2[0]\n",
    "                        secuencia.append(b2)\n",
    "                        i += 1\n",
    "                        break\n",
    "                    elif coor_final == b2[0]:\n",
    "                        coor_final = b2[1]\n",
    "                        secuencia.append(b2) \n",
    "                        i += 1\n",
    "                        break\n",
    "                \n",
    "                if i == len(bloques_disponibles) - 1: seguir, conseguido = False, True  \n"
   ]
  },
  {
   "cell_type": "code",
   "execution_count": 81,
   "metadata": {},
   "outputs": [
    {
     "name": "stdout",
     "output_type": "stream",
     "text": [
      "4\n"
     ]
    }
   ],
   "source": [
    "# inicio del programa\n",
    "manejador = buddy_system(6)\n",
    "manejador.asignar_espacio(\"a\",1)"
   ]
  },
  {
   "cell_type": "code",
   "execution_count": 1,
   "metadata": {},
   "outputs": [
    {
     "data": {
      "text/plain": [
       "['1', '1', '0', '1', '1']"
      ]
     },
     "execution_count": 1,
     "metadata": {},
     "output_type": "execute_result"
    }
   ],
   "source": [
    "cantidad = 27\n",
    "cantidad_en_binario = bin(cantidad)[2:]\n",
    "        \n",
    "bloques_necearios = []\n",
    "bloques_necearios[:0] = cantidad_en_binario\n",
    "bloques_necearios.reverse()\n",
    "bloques_necearios\n"
   ]
  }
 ],
 "metadata": {
  "interpreter": {
   "hash": "ad09b60750cd10c49c41504d70efed899c84b09b0261668bb897ed3bf0f9f6e8"
  },
  "kernelspec": {
   "display_name": "Python 3.9.12 ('base')",
   "language": "python",
   "name": "python3"
  },
  "language_info": {
   "codemirror_mode": {
    "name": "ipython",
    "version": 3
   },
   "file_extension": ".py",
   "mimetype": "text/x-python",
   "name": "python",
   "nbconvert_exporter": "python",
   "pygments_lexer": "ipython3",
   "version": "3.9.12"
  }
 },
 "nbformat": 4,
 "nbformat_minor": 2
}
