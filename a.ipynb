{
 "cells": [
  {
   "cell_type": "code",
   "execution_count": 1,
   "metadata": {},
   "outputs": [],
   "source": [
    "def aumentar(a):\n",
    "    i = len(a)-1\n",
    "    while (a[i] != 0 and i >=0):\n",
    "        a[i]= 0\n",
    "        i -= 1\n",
    "        \n",
    "    if (i>=0): a[i] = 1"
   ]
  },
  {
   "cell_type": "code",
   "execution_count": 2,
   "metadata": {},
   "outputs": [],
   "source": [
    "def evaluar(a):\n",
    "    w,x,y,z,v=a[0],a[1],a[2],a[3],a[4]\n",
    "    return int ((w or x or not y or not z or v) and\n",
    "            (not w or not x or not z or v) and\n",
    "            (not w or not x or not y or v) and\n",
    "            (not w or x or y or z or v) and\n",
    "            (w or y or not v) and\n",
    "            (not w or not x or  y or  z or not v) and\n",
    "            (w or not x or not v) and\n",
    "            (not w or x or not y or not z or not v) \n",
    "           )"
   ]
  },
  {
   "cell_type": "code",
   "execution_count": 3,
   "metadata": {},
   "outputs": [
    {
     "name": "stdout",
     "output_type": "stream",
     "text": [
      "0 & 0 & 0 & 0 & 0 & 1\\\\\n",
      "0 & 0 & 0 & 0 & 1 & 0\\\\\n",
      "0 & 0 & 0 & 1 & 0 & 1\\\\\n",
      "0 & 0 & 0 & 1 & 1 & 0\\\\\n",
      "0 & 0 & 1 & 0 & 0 & 1\\\\\n",
      "0 & 0 & 1 & 0 & 1 & 1\\\\\n",
      "0 & 0 & 1 & 1 & 0 & 0\\\\\n",
      "0 & 0 & 1 & 1 & 1 & 1\\\\\n",
      "0 & 1 & 0 & 0 & 0 & 1\\\\\n",
      "0 & 1 & 0 & 0 & 1 & 0\\\\\n",
      "0 & 1 & 0 & 1 & 0 & 1\\\\\n",
      "0 & 1 & 0 & 1 & 1 & 0\\\\\n",
      "0 & 1 & 1 & 0 & 0 & 1\\\\\n",
      "0 & 1 & 1 & 0 & 1 & 0\\\\\n",
      "0 & 1 & 1 & 1 & 0 & 1\\\\\n",
      "0 & 1 & 1 & 1 & 1 & 0\\\\\n",
      "1 & 0 & 0 & 0 & 0 & 0\\\\\n",
      "1 & 0 & 0 & 0 & 1 & 1\\\\\n",
      "1 & 0 & 0 & 1 & 0 & 1\\\\\n",
      "1 & 0 & 0 & 1 & 1 & 1\\\\\n",
      "1 & 0 & 1 & 0 & 0 & 1\\\\\n",
      "1 & 0 & 1 & 0 & 1 & 1\\\\\n",
      "1 & 0 & 1 & 1 & 0 & 1\\\\\n",
      "1 & 0 & 1 & 1 & 1 & 0\\\\\n",
      "1 & 1 & 0 & 0 & 0 & 1\\\\\n",
      "1 & 1 & 0 & 0 & 1 & 0\\\\\n",
      "1 & 1 & 0 & 1 & 0 & 0\\\\\n",
      "1 & 1 & 0 & 1 & 1 & 1\\\\\n",
      "1 & 1 & 1 & 0 & 0 & 0\\\\\n",
      "1 & 1 & 1 & 0 & 1 & 1\\\\\n",
      "1 & 1 & 1 & 1 & 0 & 0\\\\\n",
      "1 & 1 & 1 & 1 & 1 & 1\\\\\n",
      "0 & 0 & 0 & 0 & 0 & 1\\\\\n"
     ]
    }
   ],
   "source": [
    "a = [0,0,0,0,0]\n",
    "cont = 0\n",
    "while cont <= 32:\n",
    "        \n",
    "        print(' & '.join(str(e) for e in a)+ \" & \" + str(evaluar(a))+\"\\\\\\\\\")\n",
    "        \n",
    "        aumentar(a)\n",
    "        cont += 1"
   ]
  },
  {
   "cell_type": "code",
   "execution_count": 35,
   "metadata": {},
   "outputs": [
    {
     "data": {
      "text/plain": [
       "1"
      ]
     },
     "execution_count": 35,
     "metadata": {},
     "output_type": "execute_result"
    }
   ],
   "source": [
    "int(not 0)"
   ]
  }
 ],
 "metadata": {
  "kernelspec": {
   "display_name": "Python 3 (ipykernel)",
   "language": "python",
   "name": "python3"
  },
  "language_info": {
   "codemirror_mode": {
    "name": "ipython",
    "version": 3
   },
   "file_extension": ".py",
   "mimetype": "text/x-python",
   "name": "python",
   "nbconvert_exporter": "python",
   "pygments_lexer": "ipython3",
   "version": "3.9.7"
  }
 },
 "nbformat": 4,
 "nbformat_minor": 2
}
